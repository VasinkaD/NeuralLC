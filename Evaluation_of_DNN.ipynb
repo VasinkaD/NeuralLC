{
 "cells": [
  {
   "cell_type": "markdown",
   "id": "technological-hydrogen",
   "metadata": {},
   "source": [
    "## Importing libraries"
   ]
  },
  {
   "cell_type": "code",
   "execution_count": 1,
   "id": "round-girlfriend",
   "metadata": {},
   "outputs": [],
   "source": [
    "import os\n",
    "os.environ['TF_CPP_MIN_LOG_LEVEL'] = '2'\n",
    "os.environ['PYTHONHASHSEED'] = '2'\n",
    "import keras\n",
    "from keras import models\n",
    "from keras import layers\n",
    "from keras.models import Sequential\n",
    "from keras.layers import Dense, Dropout\n",
    "from keras.optimizers import RMSprop, Adam, SGD\n",
    "from keras.callbacks import ModelCheckpoint, ReduceLROnPlateau\n",
    "from keras.models import load_model\n",
    "import matplotlib.pyplot as plt\n",
    "import tensorflow as tf\n",
    "tf.random.set_seed(19)\n",
    "import scipy\n",
    "import numpy as np\n",
    "from numpy.random import seed\n",
    "seed(18)\n",
    "import random\n",
    "random.seed(18)"
   ]
  },
  {
   "cell_type": "markdown",
   "id": "valued-marker",
   "metadata": {},
   "source": [
    "## Dataset and functions preparation"
   ]
  },
  {
   "cell_type": "code",
   "execution_count": 2,
   "id": "driving-massage",
   "metadata": {},
   "outputs": [],
   "source": [
    "#Inverse Cholesky transformation using 4 outputs predicted by the neural network\n",
    "def prediction_to_density(flat):\n",
    "    tau = np.zeros([flat.shape[0], 2, 2], dtype=np.complex_)\n",
    "    tau[:, 0, 0] = flat[:, 0]\n",
    "    tau[:, 0, 1] = 0\n",
    "    tau[:, 1, 0] = flat[:, 1] + 1j*flat[:, 2]\n",
    "    tau[:, 1, 1] = flat[:, 3]\n",
    "    rho = np.zeros([tau.shape[0], 2, 2], dtype=np.complex_)\n",
    "    for i in range(rho.shape[0]):\n",
    "        rho[i] = np.dot(tau[i], np.conjugate(np.transpose(tau[i])))\n",
    "        rho[i] = rho[i] / np.trace(rho[i])\n",
    "    return rho\n",
    "\n",
    "#Extracting density matrix information to input vector for compound model\n",
    "def flatten_rho(rho):\n",
    "    flat_rho = np.zeros([rho.shape[0], 4])\n",
    "    flat_rho[:, 0] = np.real(rho[:, 0, 0])\n",
    "    flat_rho[:, 1] = np.real(rho[:, 1, 0])\n",
    "    flat_rho[:, 2] = np.imag(rho[:, 1, 0])\n",
    "    flat_rho[:, 3] = np.real(rho[:, 1, 1])\n",
    "    return flat_rho\n",
    "\n",
    "#Computing fidelity\n",
    "def fidelity_array(input_1, input_2):\n",
    "    fid_int = []\n",
    "    for i in range(input_1.shape[0]):\n",
    "        dm_sqrt = scipy.linalg.sqrtm(input_1[i])\n",
    "        dm_pred = input_2[i]\n",
    "        in_sqrt = np.linalg.multi_dot([dm_sqrt, dm_pred, dm_sqrt])\n",
    "        trace = np.trace(scipy.linalg.sqrtm(in_sqrt))\n",
    "        fidelity = np.real(trace**2)\n",
    "        fid_int.append(fidelity)\n",
    "    return np.array(fid_int)"
   ]
  },
  {
   "cell_type": "code",
   "execution_count": 3,
   "id": "historical-travel",
   "metadata": {},
   "outputs": [],
   "source": [
    "#Loading the dataset of density matrices and control voltages\n",
    "train_voltage = np.load(\"Data_files/training_voltages.npy\")\n",
    "val_voltage = np.load(\"Data_files/validation_voltages.npy\")\n",
    "test_voltage = np.load(\"Data_files/test_voltages.npy\")\n",
    "\n",
    "train_rho = np.load(\"Data_files/training_rhos.npy\")\n",
    "val_rho = np.load(\"Data_files/validation_rhos.npy\")\n",
    "test_rho = np.load(\"Data_files/test_rhos.npy\")"
   ]
  },
  {
   "cell_type": "markdown",
   "id": "destroyed-found",
   "metadata": {},
   "source": [
    "## Direct model evaluation"
   ]
  },
  {
   "cell_type": "code",
   "execution_count": 4,
   "id": "abroad-failing",
   "metadata": {},
   "outputs": [],
   "source": [
    "#Loading the direct model\n",
    "direct_model = load_model(\"Direct_model.h5\")"
   ]
  },
  {
   "cell_type": "code",
   "execution_count": 5,
   "id": "surface-theology",
   "metadata": {},
   "outputs": [
    {
     "name": "stdout",
     "output_type": "stream",
     "text": [
      "Average fidelity on the test set: 0.9995721959282508\n",
      "\n",
      "Average infidelity on the test set: 0.0004278040717492351\n",
      "The 5th percentile of infidelities: 8.844168712163203e-07\n",
      "The 95th percentile of infidelities: 0.000279187546582216\n",
      "\n",
      "The format of infidelities in the article:\n",
      "( 0.0004278040717492351 - 0.0004269196548780188 + -0.0001486165251670191 )\n"
     ]
    }
   ],
   "source": [
    "#Prediction of the direct model on the test set\n",
    "test_pred_rho = prediction_to_density(direct_model.predict(test_voltage))\n",
    "\n",
    "#Evaluation of results\n",
    "DM_fidelities = fidelity_array(test_rho, test_pred_rho)\n",
    "print(\"Average fidelity on the test set:\", np.mean(DM_fidelities))\n",
    "print(\"\")\n",
    "\n",
    "DM_infidelities = 1-DM_fidelities\n",
    "print(\"Average infidelity on the test set:\", np.mean(DM_infidelities))\n",
    "print(\"The 5th percentile of infidelities:\", np.quantile(DM_infidelities, 0.05))\n",
    "print(\"The 95th percentile of infidelities:\", np.quantile(DM_infidelities, 0.95))\n",
    "print(\"\")\n",
    "\n",
    "print(\"The format of infidelities in the article:\")\n",
    "print(\"(\", np.mean(DM_infidelities), \n",
    "      \"-\", np.mean(DM_infidelities)-np.quantile(DM_infidelities, 0.05), \n",
    "      \"+\", np.quantile(DM_infidelities, 0.95)-np.mean(DM_infidelities), \")\")"
   ]
  },
  {
   "cell_type": "markdown",
   "id": "addressed-stanley",
   "metadata": {},
   "source": [
    "## Compound model evaluation"
   ]
  },
  {
   "cell_type": "code",
   "execution_count": 6,
   "id": "conventional-island",
   "metadata": {},
   "outputs": [],
   "source": [
    "#Loading the compound model\n",
    "compound_model = load_model(\"Compound_model.h5\")\n",
    "\n",
    "#Prediction of the direct model on the test set\n",
    "test_pred_rho = prediction_to_density(compound_model.predict(flatten_rho(test_rho)))"
   ]
  },
  {
   "cell_type": "code",
   "execution_count": 7,
   "id": "relative-dependence",
   "metadata": {},
   "outputs": [
    {
     "name": "stdout",
     "output_type": "stream",
     "text": [
      "Average fidelity on the test set: 0.9998257245985978\n",
      "\n",
      "Average infidelity on the test set: 0.00017427540140232793\n",
      "The 5th percentile of infidelities: 1.1056603449632886e-06\n",
      "The 95th percentile of infidelities: 0.0006844815922890565\n",
      "\n",
      "The format of infidelities in the article:\n",
      "( 0.00017427540140232793 - 0.00017316974105736465 + 0.0005102061908867285 )\n"
     ]
    }
   ],
   "source": [
    "#Evaluation of results\n",
    "CM_fidelities = fidelity_array(test_rho, test_pred_rho)\n",
    "print(\"Average fidelity on the test set:\", np.mean(CM_fidelities))\n",
    "print(\"\")\n",
    "\n",
    "CM_infidelities = 1-CM_fidelities\n",
    "print(\"Average infidelity on the test set:\", np.mean(CM_infidelities))\n",
    "print(\"The 5th percentile of infidelities:\", np.quantile(CM_infidelities, 0.05))\n",
    "print(\"The 95th percentile of infidelities:\", np.quantile(CM_infidelities, 0.95))\n",
    "print(\"\")\n",
    "\n",
    "print(\"The format of infidelities in the article:\")\n",
    "print(\"(\", np.mean(CM_infidelities), \n",
    "      \"-\", np.mean(CM_infidelities)-np.quantile(CM_infidelities, 0.05), \n",
    "      \"+\", np.quantile(CM_infidelities, 0.95)-np.mean(CM_infidelities), \")\")"
   ]
  },
  {
   "cell_type": "code",
   "execution_count": null,
   "id": "posted-inspiration",
   "metadata": {},
   "outputs": [],
   "source": []
  }
 ],
 "metadata": {
  "kernelspec": {
   "display_name": "Python 3",
   "language": "python",
   "name": "python3"
  },
  "language_info": {
   "codemirror_mode": {
    "name": "ipython",
    "version": 3
   },
   "file_extension": ".py",
   "mimetype": "text/x-python",
   "name": "python",
   "nbconvert_exporter": "python",
   "pygments_lexer": "ipython3",
   "version": "3.9.6"
  }
 },
 "nbformat": 4,
 "nbformat_minor": 5
}
