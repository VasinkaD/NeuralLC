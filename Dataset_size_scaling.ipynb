{
 "cells": [
  {
   "cell_type": "markdown",
   "id": "departmental-communication",
   "metadata": {},
   "source": [
    "## Loading libraries"
   ]
  },
  {
   "cell_type": "code",
   "execution_count": 1,
   "id": "national-shape",
   "metadata": {},
   "outputs": [],
   "source": [
    "import numpy as np\n",
    "import matplotlib.pyplot as plt"
   ]
  },
  {
   "cell_type": "markdown",
   "id": "stock-orleans",
   "metadata": {},
   "source": [
    "## Deep learning results"
   ]
  },
  {
   "cell_type": "code",
   "execution_count": 2,
   "id": "express-bandwidth",
   "metadata": {},
   "outputs": [],
   "source": [
    "#Loading the files with all fidelities for creating the graph of deep learning model scaling on dataset size\n",
    "DNN_fidelity_val_tensor = np.load(\"Dataset_files/DNN_all_fidelity_val_tensor.npy\", allow_pickle=True)\n",
    "DNN_fidelity_test_tensor = np.load(\"Dataset_files/DNN_all_fidelity_test_tensor.npy\", allow_pickle=True)\n",
    "\n",
    "#The files are divided to 11 parts, one for each point of the graph\n",
    "graph_points = DNN_fidelity_val_tensor.shape[0]\n",
    "\n",
    "test_fidelity_arrays = []\n",
    "\n",
    "#Now we go through each part one by one\n",
    "for i in range(graph_points):\n",
    "    #Extract one part, it is a matrix of a size (number_of_training_subsets, validation_set_size)\n",
    "    fidelity_matrix = np.real(DNN_fidelity_val_tensor[i])\n",
    "    \n",
    "    #Calculate the mean fidelity across the validation set for each training subset\n",
    "    networks_means = np.mean(fidelity_matrix, axis=1)\n",
    "    \n",
    "    #Find the training subset with highest fidelity on the validation set\n",
    "    pos_val_max = np.argmax(networks_means)\n",
    "    \n",
    "    #Pick the test fidelities of the training subset that was best for the validation set\n",
    "    test_fidelity_arrays.append(np.real(DNN_fidelity_test_tensor[i])[pos_val_max])\n",
    "\n",
    "#Now the \"test_fidelity_arrays\" is a matrix of fidelities with a shape (graph_points, test_set_size)\n",
    "\n",
    "#Calculating the mean infidelity for each graph point\n",
    "DNN_infidelities = 1-np.array(test_fidelity_arrays)\n",
    "DNN_infidelity_means = np.mean(DNN_infidelities, axis=-1)"
   ]
  },
  {
   "cell_type": "markdown",
   "id": "numerous-protection",
   "metadata": {},
   "source": [
    "## Linear interpolation results"
   ]
  },
  {
   "cell_type": "code",
   "execution_count": 3,
   "id": "hindu-revolution",
   "metadata": {},
   "outputs": [],
   "source": [
    "#Loading the files with all fidelities for creating the graph of linear interpolation model scaling on dataset size\n",
    "LI_fidelity_val_tensor = np.load(\"Dataset_files/LI_all_fidelity_val_tensor.npy\", allow_pickle=True)\n",
    "LI_fidelity_test_tensor = np.load(\"Dataset_files/LI_all_fidelity_test_tensor.npy\", allow_pickle=True)\n",
    "\n",
    "#The files are divided to 11 parts, one for each point of the graph\n",
    "graph_points = LI_fidelity_val_tensor.shape[0]\n",
    "\n",
    "test_fidelity_arrays = []\n",
    "\n",
    "#Now we go through each part one by one\n",
    "for i in range(graph_points):\n",
    "    #Extract one part, it is a matrix of a size (number_of_training_subsets, validation_set_size)\n",
    "    fidelity_matrix = np.real(LI_fidelity_val_tensor[i])\n",
    "    \n",
    "    #Calculate the mean fidelity across the validation set for each training subset\n",
    "    networks_means = np.mean(fidelity_matrix, axis=1)\n",
    "    \n",
    "    #Find the training subset with highest fidelity on the validation set\n",
    "    pos_val_max = np.argmax(networks_means)\n",
    "    \n",
    "    #Pick the test fidelities of the training subset that was best for the validation set\n",
    "    test_fidelity_arrays.append(np.real(LI_fidelity_test_tensor[i])[pos_val_max])\n",
    "    \n",
    "#Now the \"test_fidelity_arrays\" is a matrix of fidelities with a shape (graph_points, test_set_size)\n",
    "\n",
    "#Calculating the mean infidelity for each graph point\n",
    "LI_infidelities = 1-np.array(test_fidelity_arrays)\n",
    "LI_infidelity_means = np.mean(LI_infidelities, axis=-1)"
   ]
  },
  {
   "cell_type": "markdown",
   "id": "structural-summer",
   "metadata": {},
   "source": [
    "## Radial basis function interpolation"
   ]
  },
  {
   "cell_type": "code",
   "execution_count": 4,
   "id": "flexible-lightweight",
   "metadata": {},
   "outputs": [],
   "source": [
    "#Loading the files with all fidelities for creating the graph of linear interpolation model scaling on dataset size\n",
    "RBF_fidelity_val_tensor = np.load(\"Dataset_files/RBF_all_fidelity_val_tensor.npy\", allow_pickle=True)\n",
    "RBF_fidelity_test_tensor = np.load(\"Dataset_files/RBF_all_fidelity_test_tensor.npy\", allow_pickle=True)\n",
    "\n",
    "#The files are divided to 11 parts, one for each point of the graph\n",
    "graph_points = RBF_fidelity_val_tensor.shape[0]\n",
    "\n",
    "test_fidelity_arrays = []\n",
    "\n",
    "#Now we go through each part one by one\n",
    "for i in range(graph_points):\n",
    "    #Extract one part, it is a matrix of a size (number_of_training_subsets, validation_set_size)\n",
    "    fidelity_matrix = np.real(RBF_fidelity_val_tensor[i])\n",
    "    \n",
    "    #Calculate the mean fidelity across the validation set for each training subset\n",
    "    networks_means = np.mean(fidelity_matrix, axis=1)\n",
    "    \n",
    "    #Find the training subset with highest fidelity on the validation set\n",
    "    pos_val_max = np.argmax(networks_means)\n",
    "    \n",
    "    #Pick the test fidelities of the training subset that was best for the validation set\n",
    "    test_fidelity_arrays.append(np.real(RBF_fidelity_test_tensor[i])[pos_val_max])\n",
    "    \n",
    "#Now the \"test_fidelity_arrays\" is a matrix of fidelities with a shape (graph_points, test_set_size)\n",
    "\n",
    "#Calculating the mean infidelity for each graph point\n",
    "RBF_infidelities = 1-np.array(test_fidelity_arrays)\n",
    "RBF_infidelity_means = np.mean(RBF_infidelities, axis=-1)"
   ]
  },
  {
   "cell_type": "markdown",
   "id": "peaceful-promise",
   "metadata": {},
   "source": [
    "## Figure visualization"
   ]
  },
  {
   "cell_type": "code",
   "execution_count": 5,
   "id": "offensive-party",
   "metadata": {},
   "outputs": [
    {
     "data": {
      "text/plain": [
       "<matplotlib.legend.Legend at 0x7f537aab3160>"
      ]
     },
     "execution_count": 5,
     "metadata": {},
     "output_type": "execute_result"
    },
    {
     "data": {
      "image/png": "[encoded data removed]",
      "text/plain": [
       "<Figure size 432x288 with 1 Axes>"
      ]
     },
     "metadata": {
      "needs_background": "light"
     },
     "output_type": "display_data"
    }
   ],
   "source": [
    "dataset_size_array = np.array([40, 75, 150, 375, 750, 1500, 3000, 6000, 9000, 12000, 16000])\n",
    "\n",
    "plt.figure(figsize=(6,4))\n",
    "plt.plot(dataset_size_array, LI_infidelity_means, \n",
    "         color=\"green\", linestyle=\"--\")\n",
    "plt.scatter(dataset_size_array, LI_infidelity_means, \n",
    "            color=\"green\", label=\"Linear interpolation\")\n",
    "\n",
    "plt.plot(dataset_size_array, RBF_infidelity_means, \n",
    "         color=\"red\", linestyle=\"--\")\n",
    "plt.scatter(dataset_size_array, RBF_infidelity_means, \n",
    "            color=\"red\", label=\"Radial basis function\")\n",
    "\n",
    "plt.plot(dataset_size_array, DNN_infidelity_means, \n",
    "         color=\"blue\", linestyle=\"--\")\n",
    "plt.scatter(dataset_size_array, DNN_infidelity_means, \n",
    "            color=\"blue\", label=\"Deep learning\")\n",
    "\n",
    "plt.xscale(\"log\")\n",
    "plt.yscale(\"log\")\n",
    "plt.title(\"Infidelities of tested methods\")\n",
    "plt.ylabel('Infidelity [/]')\n",
    "plt.xlabel('Number of samples in the training set [#]')\n",
    "plt.legend()"
   ]
  },
  {
   "cell_type": "code",
   "execution_count": null,
   "id": "pressing-enemy",
   "metadata": {},
   "outputs": [],
   "source": []
  }
 ],
 "metadata": {
  "kernelspec": {
   "display_name": "Python 3",
   "language": "python",
   "name": "python3"
  },
  "language_info": {
   "codemirror_mode": {
    "name": "ipython",
    "version": 3
   },
   "file_extension": ".py",
   "mimetype": "text/x-python",
   "name": "python",
   "nbconvert_exporter": "python",
   "pygments_lexer": "ipython3",
   "version": "3.9.6"
  }
 },
 "nbformat": 4,
 "nbformat_minor": 5
}
