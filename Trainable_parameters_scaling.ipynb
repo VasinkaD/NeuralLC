{
 "cells": [
  {
   "cell_type": "markdown",
   "id": "f8cd0a7b",
   "metadata": {},
   "source": [
    "## Loading libraries"
   ]
  },
  {
   "cell_type": "code",
   "execution_count": 1,
   "id": "national-shape",
   "metadata": {},
   "outputs": [],
   "source": [
    "import keras\n",
    "from keras.models import load_model\n",
    "from keras.utils.layer_utils import count_params\n",
    "import matplotlib.pyplot as plt\n",
    "import numpy as np\n",
    "import scipy"
   ]
  },
  {
   "cell_type": "markdown",
   "id": "9dabed55",
   "metadata": {},
   "source": [
    "## Dataset and functions preparation"
   ]
  },
  {
   "cell_type": "code",
   "execution_count": 2,
   "id": "be80ae61",
   "metadata": {},
   "outputs": [],
   "source": [
    "#Inverse Cholesky transformation using 4 outputs predicted by the neural network\n",
    "def prediction_to_density(flat):\n",
    "    tau = np.zeros([flat.shape[0], 2, 2], dtype=np.complex_)\n",
    "    tau[:, 0, 0] = flat[:, 0]\n",
    "    tau[:, 0, 1] = 0\n",
    "    tau[:, 1, 0] = flat[:, 1] + 1j*flat[:, 2]\n",
    "    tau[:, 1, 1] = flat[:, 3]\n",
    "    rho = np.zeros([tau.shape[0], 2, 2], dtype=np.complex_)\n",
    "    for i in range(rho.shape[0]):\n",
    "        rho[i] = np.dot(tau[i], np.conjugate(np.transpose(tau[i])))\n",
    "        rho[i] = rho[i] / np.trace(rho[i])\n",
    "    return rho\n",
    "\n",
    "#Computing fidelity\n",
    "def fidelity_array(input_1, input_2):\n",
    "    fid_int = []\n",
    "    for i in range(input_1.shape[0]):\n",
    "        dm_sqrt = scipy.linalg.sqrtm(input_1[i])\n",
    "        dm_pred = input_2[i]\n",
    "        in_sqrt = np.linalg.multi_dot([dm_sqrt, dm_pred, dm_sqrt])\n",
    "        trace = np.trace(scipy.linalg.sqrtm(in_sqrt))\n",
    "        fidelity = np.real(trace**2)\n",
    "        fid_int.append(fidelity)\n",
    "    return np.array(fid_int)"
   ]
  },
  {
   "cell_type": "code",
   "execution_count": 3,
   "id": "e5fd3086",
   "metadata": {},
   "outputs": [],
   "source": [
    "#Loading the dataset of density matrices and control voltages\n",
    "train_voltage = np.load(\"Data_files/training_voltages.npy\")\n",
    "val_voltage = np.load(\"Data_files/validation_voltages.npy\")\n",
    "test_voltage = np.load(\"Data_files/test_voltages.npy\")\n",
    "\n",
    "train_rho = np.load(\"Data_files/training_rhos.npy\")\n",
    "val_rho = np.load(\"Data_files/validation_rhos.npy\")\n",
    "test_rho = np.load(\"Data_files/test_rhos.npy\")"
   ]
  },
  {
   "cell_type": "markdown",
   "id": "stock-orleans",
   "metadata": {},
   "source": [
    "## Evaluating results"
   ]
  },
  {
   "cell_type": "code",
   "execution_count": 5,
   "id": "65acf39b",
   "metadata": {},
   "outputs": [],
   "source": [
    "average_fidelities = np.zeros([8])\n",
    "number_of_parameters = np.zeros([8])\n",
    "\n",
    "for i in range(average_fidelities.shape[0]-1):\n",
    "    #Loading the current sub-optimal direct neural network\n",
    "    current_model = load_model(\"Auxiliary_models/Direct_model_1_\"+str(int(128/(2**(i))))+\"_parameters.h5\")\n",
    "    \n",
    "    #Prediction of the current sub-optimal direct model on the test set\n",
    "    test_pred_rho = prediction_to_density(current_model.predict(test_voltage))\n",
    "    \n",
    "    #Evaluation of results\n",
    "    current_fidelities = fidelity_array(test_rho, test_pred_rho)\n",
    "    \n",
    "    #Saving results and number of parameters\n",
    "    average_fidelities[i] = np.mean(current_fidelities)\n",
    "    number_of_parameters[i] = current_model.count_params()\n",
    "    \n",
    "#Loading and evaluating the optimal direct neural network\n",
    "direct_model = load_model(\"Direct_model.h5\")\n",
    "test_pred_rho = prediction_to_density(direct_model.predict(test_voltage))\n",
    "direct_fidelities = fidelity_array(test_rho, test_pred_rho)\n",
    "average_fidelities[-1] = np.mean(direct_fidelities)\n",
    "number_of_parameters[-1] = direct_model.count_params()"
   ]
  },
  {
   "cell_type": "markdown",
   "id": "84a25f43",
   "metadata": {},
   "source": [
    "## Visualizing results"
   ]
  },
  {
   "cell_type": "code",
   "execution_count": 6,
   "id": "offensive-party",
   "metadata": {},
   "outputs": [
    {
     "data": {
      "text/plain": [
       "Text(0.5, 0, 'Trainable parameters')"
      ]
     },
     "execution_count": 6,
     "metadata": {},
     "output_type": "execute_result"
    },
    {
     "data": {
      "image/png": "[encoded data removed]",
      "text/plain": [
       "<Figure size 432x288 with 1 Axes>"
      ]
     },
     "metadata": {
      "needs_background": "light"
     },
     "output_type": "display_data"
    }
   ],
   "source": [
    "plt.figure(figsize=(6,4))\n",
    "plt.plot(number_of_parameters, 1-average_fidelities, \n",
    "         color=\"blue\", linestyle=\"--\")\n",
    "plt.scatter(number_of_parameters, 1-average_fidelities, \n",
    "            color=\"blue\")\n",
    "\n",
    "plt.xscale(\"log\")\n",
    "plt.yscale(\"log\")\n",
    "plt.ylabel(\"Infidelity\")\n",
    "plt.xlabel(\"Trainable parameters\")"
   ]
  },
  {
   "cell_type": "code",
   "execution_count": null,
   "id": "pressing-enemy",
   "metadata": {},
   "outputs": [],
   "source": []
  }
 ],
 "metadata": {
  "kernelspec": {
   "display_name": "Python 3",
   "language": "python",
   "name": "python3"
  },
  "language_info": {
   "codemirror_mode": {
    "name": "ipython",
    "version": 3
   },
   "file_extension": ".py",
   "mimetype": "text/x-python",
   "name": "python",
   "nbconvert_exporter": "python",
   "pygments_lexer": "ipython3",
   "version": "3.10.4"
  }
 },
 "nbformat": 4,
 "nbformat_minor": 5
}
