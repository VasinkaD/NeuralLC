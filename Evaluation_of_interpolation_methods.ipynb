{
 "cells": [
  {
   "cell_type": "markdown",
   "id": "technological-hydrogen",
   "metadata": {},
   "source": [
    "## Importing libraries"
   ]
  },
  {
   "cell_type": "code",
   "execution_count": 1,
   "id": "round-girlfriend",
   "metadata": {},
   "outputs": [],
   "source": [
    "import numpy as np\n",
    "import scipy\n",
    "from scipy.interpolate import griddata\n",
    "from scipy.interpolate import Rbf"
   ]
  },
  {
   "cell_type": "markdown",
   "id": "valued-marker",
   "metadata": {},
   "source": [
    "## Dataset and functions preparation"
   ]
  },
  {
   "cell_type": "code",
   "execution_count": 2,
   "id": "occasional-determination",
   "metadata": {},
   "outputs": [],
   "source": [
    "#Flatten matrix of Cholesky decomposition (lower triangular) into vector\n",
    "def flatten_matrix(tau):\n",
    "    flat = np.zeros([tau.shape[0], 4])\n",
    "    flat[:, 0] = np.real(tau[:, 0, 0])\n",
    "    flat[:, 1] = np.real(tau[:, 1, 0])\n",
    "    flat[:, 2] = np.imag(tau[:, 1, 0])\n",
    "    flat[:, 3] = np.real(tau[:, 1, 1])\n",
    "    return flat\n",
    "\n",
    "#Inverse Cholesky transformation using flattened tau\n",
    "def prediction_to_density(flat):\n",
    "    tau = np.zeros([flat.shape[0], 2, 2], dtype=np.complex_)\n",
    "    tau[:, 0, 0] = flat[:, 0]\n",
    "    tau[:, 0, 1] = 0\n",
    "    tau[:, 1, 0] = flat[:, 1] + 1j*flat[:, 2]\n",
    "    tau[:, 1, 1] = flat[:, 3]\n",
    "    rho = np.zeros([tau.shape[0], 2, 2], dtype=np.complex_)\n",
    "    for i in range(rho.shape[0]):\n",
    "        rho[i] = np.dot(tau[i], np.conjugate(np.transpose(tau[i])))\n",
    "        rho[i] = rho[i] / np.trace(rho[i])\n",
    "    return rho\n",
    "\n",
    "#Computing fidelity\n",
    "def fidelity_array(input_1, input_2):\n",
    "    fid_int = []\n",
    "    for i in range(input_1.shape[0]):\n",
    "        dm_sqrt = scipy.linalg.sqrtm(input_1[i])\n",
    "        dm_pred = input_2[i]\n",
    "        in_sqrt = np.linalg.multi_dot([dm_sqrt, dm_pred, dm_sqrt])\n",
    "        trace = np.trace(scipy.linalg.sqrtm(in_sqrt))\n",
    "        fidelity = np.real(trace**2)\n",
    "        fid_int.append(fidelity)\n",
    "    return np.array(fid_int)"
   ]
  },
  {
   "cell_type": "code",
   "execution_count": 3,
   "id": "proprietary-intention",
   "metadata": {},
   "outputs": [],
   "source": [
    "#Loading the dataset of density matrices and control voltages\n",
    "train_voltage = np.load(\"Data_files/training_voltages.npy\")\n",
    "val_voltage = np.load(\"Data_files/validation_voltages.npy\")\n",
    "test_voltage = np.load(\"Data_files/test_voltages.npy\")\n",
    "\n",
    "train_rho = np.load(\"Data_files/training_rhos.npy\")\n",
    "val_rho = np.load(\"Data_files/validation_rhos.npy\")\n",
    "test_rho = np.load(\"Data_files/test_rhos.npy\")\n",
    "\n",
    "#Flattening the density matrix into vector\n",
    "train_flat_rho = flatten_matrix(train_rho)\n",
    "val_flat_rho = flatten_matrix(val_rho)\n",
    "test_flat_rho = flatten_matrix(test_rho)\n",
    "\n",
    "#Cholesky decompostion\n",
    "train_tau = np.linalg.cholesky(train_rho)\n",
    "val_tau = np.linalg.cholesky(val_rho)\n",
    "test_tau = np.linalg.cholesky(test_rho)\n",
    "\n",
    "#Flatting the cholesky decomposition into vector\n",
    "train_flat_tau = flatten_matrix(train_tau)\n",
    "val_flat_tau = flatten_matrix(val_tau)\n",
    "test_flat_tau = flatten_matrix(test_tau)"
   ]
  },
  {
   "cell_type": "markdown",
   "id": "destroyed-found",
   "metadata": {},
   "source": [
    "## Linear interpolation of the direct transformation evaluation"
   ]
  },
  {
   "cell_type": "code",
   "execution_count": 4,
   "id": "automated-identity",
   "metadata": {},
   "outputs": [],
   "source": [
    "#Linear interpolation of the training set to predict the test set\n",
    "inter_pred_flat_0 = griddata(train_voltage, train_flat_tau[:,0], \n",
    "                             test_voltage, method=\"linear\")\n",
    "inter_pred_flat_1 = griddata(train_voltage, train_flat_tau[:,1], \n",
    "                             test_voltage, method=\"linear\")\n",
    "inter_pred_flat_2 = griddata(train_voltage, train_flat_tau[:,2], \n",
    "                             test_voltage, method=\"linear\")\n",
    "inter_pred_flat_3 = griddata(train_voltage, train_flat_tau[:,3], \n",
    "                             test_voltage, method=\"linear\")\n",
    "\n",
    "#Handling extrapolation cases by nearest neighbor\n",
    "nan_pos = np.ndarray.flatten(np.argwhere(np.isnan(inter_pred_flat_0)))\n",
    "inter_pred_flat_0[nan_pos] = griddata(train_voltage, train_flat_tau[:,0], \n",
    "                                      test_voltage[nan_pos], method=\"nearest\")\n",
    "inter_pred_flat_1[nan_pos] = griddata(train_voltage, train_flat_tau[:,1], \n",
    "                                      test_voltage[nan_pos], method=\"nearest\")\n",
    "inter_pred_flat_2[nan_pos] = griddata(train_voltage, train_flat_tau[:,2], \n",
    "                                      test_voltage[nan_pos], method=\"nearest\")\n",
    "inter_pred_flat_3[nan_pos] = griddata(train_voltage, train_flat_tau[:,3], \n",
    "                                      test_voltage[nan_pos], method=\"nearest\")\n",
    "\n",
    "#Interpolated results\n",
    "inter_pred_flat = np.transpose(np.array([inter_pred_flat_0, inter_pred_flat_1, \n",
    "                                         inter_pred_flat_2, inter_pred_flat_3]))\n",
    "DLI_test_pred_rho = prediction_to_density(inter_pred_flat)"
   ]
  },
  {
   "cell_type": "code",
   "execution_count": 5,
   "id": "surface-theology",
   "metadata": {},
   "outputs": [
    {
     "name": "stdout",
     "output_type": "stream",
     "text": [
      "Average fidelity on the test set: 0.9902381737139949\n",
      "\n",
      "Average infidelity on the test set: 0.009761826286005184\n",
      "The 5th percentile of infidelities: 6.71462123402744e-08\n",
      "The 95th percentile of infidelities: 0.017825833574939578\n",
      "\n",
      "The format of infidelities in the article:\n",
      "( 0.009761826286005184 - 0.009761759139792844 + 0.008064007288934394 )\n"
     ]
    }
   ],
   "source": [
    "#Evaluation of results\n",
    "DLI_fidelities = fidelity_array(test_rho, DLI_test_pred_rho)\n",
    "print(\"Average fidelity on the test set:\", np.mean(DLI_fidelities))\n",
    "print(\"\")\n",
    "\n",
    "DLI_infidelities = 1-DLI_fidelities\n",
    "print(\"Average infidelity on the test set:\", np.mean(DLI_infidelities))\n",
    "print(\"The 5th percentile of infidelities:\", np.quantile(DLI_infidelities, 0.05))\n",
    "print(\"The 95th percentile of infidelities:\", np.quantile(DLI_infidelities, 0.95))\n",
    "print(\"\")\n",
    "\n",
    "print(\"The format of infidelities in the article:\")\n",
    "print(\"(\", np.mean(DLI_infidelities), \n",
    "      \"-\", np.mean(DLI_infidelities)-np.quantile(DLI_infidelities, 0.05), \n",
    "      \"+\", np.quantile(DLI_infidelities, 0.95)-np.mean(DLI_infidelities), \")\")"
   ]
  },
  {
   "cell_type": "markdown",
   "id": "imported-upset",
   "metadata": {},
   "source": [
    "## Linear interpolation of the compound transformation evaluation"
   ]
  },
  {
   "cell_type": "code",
   "execution_count": 6,
   "id": "conventional-island",
   "metadata": {},
   "outputs": [],
   "source": [
    "#Linear interpolation of the inverse part\n",
    "inter_pred_volt_1 = griddata(train_flat_rho[:,1:], train_voltage[:,0], \n",
    "                             test_flat_rho[:,1:], method=\"linear\")\n",
    "inter_pred_volt_2 = griddata(train_flat_rho[:,1:], train_voltage[:,1], \n",
    "                             test_flat_rho[:,1:], method=\"linear\")\n",
    "inter_pred_volt_3 = griddata(train_flat_rho[:,1:], train_voltage[:,2], \n",
    "                             test_flat_rho[:,1:], method=\"linear\")\n",
    "\n",
    "#Handling extrapolation\n",
    "nan_pos = np.ndarray.flatten(np.argwhere(np.isnan(inter_pred_volt_1)))\n",
    "inter_pred_volt_1[nan_pos] = griddata(train_flat_rho[:,1:], train_voltage[:,0], \n",
    "                                      test_flat_rho[nan_pos,1:], method=\"nearest\")\n",
    "inter_pred_volt_2[nan_pos] = griddata(train_flat_rho[:,1:], train_voltage[:,1], \n",
    "                                      test_flat_rho[nan_pos,1:], method=\"nearest\")\n",
    "inter_pred_volt_3[nan_pos] = griddata(train_flat_rho[:,1:], train_voltage[:,2], \n",
    "                                      test_flat_rho[nan_pos,1:], method=\"nearest\")\n",
    "\n",
    "#Interpolated results of the inverse part\n",
    "inter_pred_volt = np.transpose(np.array([inter_pred_volt_1, inter_pred_volt_2, inter_pred_volt_3]))"
   ]
  },
  {
   "cell_type": "code",
   "execution_count": 7,
   "id": "partial-nurse",
   "metadata": {},
   "outputs": [],
   "source": [
    "#Linear interpolation of the direct part from the inverse part results\n",
    "inter_pred_flat_0 = griddata(train_voltage, train_flat_tau[:,0], \n",
    "                             inter_pred_volt, method=\"linear\")\n",
    "inter_pred_flat_1 = griddata(train_voltage, train_flat_tau[:,1], \n",
    "                             inter_pred_volt, method=\"linear\")\n",
    "inter_pred_flat_2 = griddata(train_voltage, train_flat_tau[:,2], \n",
    "                             inter_pred_volt, method=\"linear\")\n",
    "inter_pred_flat_3 = griddata(train_voltage, train_flat_tau[:,3], \n",
    "                             inter_pred_volt, method=\"linear\")\n",
    "\n",
    "#Handling extrapolation\n",
    "nan_pos = np.ndarray.flatten(np.argwhere(np.isnan(inter_pred_flat_0)))\n",
    "inter_pred_flat_0[nan_pos] = griddata(train_voltage, train_flat_tau[:,0], \n",
    "                                      inter_pred_volt[nan_pos], method=\"nearest\")\n",
    "inter_pred_flat_1[nan_pos] = griddata(train_voltage, train_flat_tau[:,1], \n",
    "                                      inter_pred_volt[nan_pos], method=\"nearest\")\n",
    "inter_pred_flat_2[nan_pos] = griddata(train_voltage, train_flat_tau[:,2], \n",
    "                                      inter_pred_volt[nan_pos], method=\"nearest\")\n",
    "inter_pred_flat_3[nan_pos] = griddata(train_voltage, train_flat_tau[:,3], \n",
    "                                      inter_pred_volt[nan_pos], method=\"nearest\")\n",
    "\n",
    "#Interpolated results of the compound model\n",
    "inter_pred_flat = np.transpose(np.array([inter_pred_flat_0, inter_pred_flat_1, \n",
    "                                         inter_pred_flat_2, inter_pred_flat_3]))\n",
    "CLI_test_pred_rho = prediction_to_density(inter_pred_flat)"
   ]
  },
  {
   "cell_type": "code",
   "execution_count": 8,
   "id": "relative-dependence",
   "metadata": {},
   "outputs": [
    {
     "name": "stdout",
     "output_type": "stream",
     "text": [
      "Average fidelity on the test set: 0.9901333150506241\n",
      "\n",
      "Average infidelity on the test set: 0.009866684949376077\n",
      "The 5th percentile of infidelities: 4.3514608694117395e-09\n",
      "The 95th percentile of infidelities: 0.021263213365275938\n",
      "\n",
      "The format of infidelities in the article:\n",
      "( 0.009866684949376077 - 0.009866680597915208 + 0.011396528415899861 )\n"
     ]
    }
   ],
   "source": [
    "#Evaluation of results\n",
    "CLI_fidelities = fidelity_array(test_rho, CLI_test_pred_rho)\n",
    "print(\"Average fidelity on the test set:\", np.mean(CLI_fidelities))\n",
    "print(\"\")\n",
    "\n",
    "CLI_infidelities = 1-CLI_fidelities\n",
    "print(\"Average infidelity on the test set:\", np.mean(CLI_infidelities))\n",
    "print(\"The 5th percentile of infidelities:\", np.quantile(CLI_infidelities, 0.05))\n",
    "print(\"The 95th percentile of infidelities:\", np.quantile(CLI_infidelities, 0.95))\n",
    "print(\"\")\n",
    "\n",
    "print(\"The format of infidelities in the article:\")\n",
    "print(\"(\", np.mean(CLI_infidelities), \n",
    "      \"-\", np.mean(CLI_infidelities)-np.quantile(CLI_infidelities, 0.05), \n",
    "      \"+\", np.quantile(CLI_infidelities, 0.95)-np.mean(CLI_infidelities), \")\")"
   ]
  },
  {
   "cell_type": "markdown",
   "id": "varying-circus",
   "metadata": {},
   "source": [
    "## Radial basis funtion interpolation of direct transformation"
   ]
  },
  {
   "cell_type": "code",
   "execution_count": 9,
   "id": "chubby-salon",
   "metadata": {},
   "outputs": [],
   "source": [
    "#Learning the interpolation function using cubic basis set\n",
    "cubic_interpolation_function = Rbf(train_voltage[:,0], train_voltage[:,1], train_voltage[:,2], \n",
    "                                   train_flat_tau, function=\"cubic\", mode=\"N-D\")\n",
    "\n",
    "#Interpolated results\n",
    "inter_pred = cubic_interpolation_function(test_voltage[:,0], test_voltage[:,1], test_voltage[:,2])\n",
    "DRBF_test_pred_rho = prediction_to_density(inter_pred)"
   ]
  },
  {
   "cell_type": "code",
   "execution_count": 10,
   "id": "preceding-completion",
   "metadata": {},
   "outputs": [
    {
     "name": "stdout",
     "output_type": "stream",
     "text": [
      "Average fidelity on the test set: 0.9984571786528771\n",
      "\n",
      "Average infidelity on the test set: 0.0015428213471230666\n",
      "The 5th percentile of infidelities: 3.1901737011508234e-07\n",
      "The 95th percentile of infidelities: 0.0037912864657654376\n",
      "\n",
      "The format of infidelities in the article:\n",
      "( 0.0015428213471230666 - 0.0015425023297529516 + 0.002248465118642371 )\n"
     ]
    }
   ],
   "source": [
    "#Evaluation of results\n",
    "DRBF_fidelities = fidelity_array(test_rho, DRBF_test_pred_rho)\n",
    "print(\"Average fidelity on the test set:\", np.mean(DRBF_fidelities))\n",
    "print(\"\")\n",
    "\n",
    "DRBF_infidelities = 1-DRBF_fidelities\n",
    "print(\"Average infidelity on the test set:\", np.mean(DRBF_infidelities))\n",
    "print(\"The 5th percentile of infidelities:\", np.quantile(DRBF_infidelities, 0.05))\n",
    "print(\"The 95th percentile of infidelities:\", np.quantile(DRBF_infidelities, 0.95))\n",
    "print(\"\")\n",
    "\n",
    "print(\"The format of infidelities in the article:\")\n",
    "print(\"(\", np.mean(DRBF_infidelities), \n",
    "      \"-\", np.mean(DRBF_infidelities)-np.quantile(DRBF_infidelities, 0.05), \n",
    "      \"+\", np.quantile(DRBF_infidelities, 0.95)-np.mean(DRBF_infidelities), \")\")"
   ]
  },
  {
   "cell_type": "markdown",
   "id": "aging-suffering",
   "metadata": {},
   "source": [
    "## Radial basis funtion interpolation of compound transformation"
   ]
  },
  {
   "cell_type": "code",
   "execution_count": 11,
   "id": "adverse-custom",
   "metadata": {},
   "outputs": [],
   "source": [
    "#The inverse part of the RBF interpolation \n",
    "interpolation_function_inverse = Rbf(train_flat_rho[:,0], train_flat_rho[:,1], train_flat_rho[:,2], \n",
    "                                     train_flat_rho[:,3], train_voltage, function=\"linear\", mode=\"N-D\")\n",
    "inter_pred_inverse = interpolation_function_inverse(test_flat_rho[:,0], test_flat_rho[:,1], \n",
    "                                                    test_flat_rho[:,2], test_flat_rho[:,3])\n",
    "\n",
    "#The direct part of the RBF interpolation using results from the inverse part\n",
    "interpolation_function_direct = Rbf(train_voltage[:,0], train_voltage[:,1], train_voltage[:,2], \n",
    "                                    train_flat_tau, function=\"cubic\", mode=\"N-D\")\n",
    "inter_pred_direct = interpolation_function_direct(inter_pred_inverse[:,0], inter_pred_inverse[:,1], \n",
    "                                                  inter_pred_inverse[:,2])\n",
    "\n",
    "#Interpolated results\n",
    "CRBF_test_pred_rho = prediction_to_density(inter_pred_direct)"
   ]
  },
  {
   "cell_type": "code",
   "execution_count": 12,
   "id": "owned-collective",
   "metadata": {},
   "outputs": [
    {
     "name": "stdout",
     "output_type": "stream",
     "text": [
      "Average fidelity on the test set: 0.9548109223602367\n",
      "\n",
      "Average infidelity on the test set: 0.045189077639763306\n",
      "The 5th percentile of infidelities: 2.5297932119139335e-07\n",
      "The 95th percentile of infidelities: 0.3255401964717626\n",
      "\n",
      "The format of infidelities in the article:\n",
      "( 0.045189077639763306 - 0.04518882466044211 + 0.28035111883199926 )\n"
     ]
    }
   ],
   "source": [
    "#Evaluation of results\n",
    "CRBF_fidelities = fidelity_array(test_rho, CRBF_test_pred_rho)\n",
    "print(\"Average fidelity on the test set:\", np.mean(CRBF_fidelities))\n",
    "print(\"\")\n",
    "\n",
    "CRBF_infidelities = 1-CRBF_fidelities\n",
    "print(\"Average infidelity on the test set:\", np.mean(CRBF_infidelities))\n",
    "print(\"The 5th percentile of infidelities:\", np.quantile(CRBF_infidelities, 0.05))\n",
    "print(\"The 95th percentile of infidelities:\", np.quantile(CRBF_infidelities, 0.95))\n",
    "print(\"\")\n",
    "\n",
    "print(\"The format of infidelities in the article:\")\n",
    "print(\"(\", np.mean(CRBF_infidelities), \n",
    "      \"-\", np.mean(CRBF_infidelities)-np.quantile(CRBF_infidelities, 0.05), \n",
    "      \"+\", np.quantile(CRBF_infidelities, 0.95)-np.mean(CRBF_infidelities), \")\")"
   ]
  },
  {
   "cell_type": "code",
   "execution_count": null,
   "id": "brave-browse",
   "metadata": {},
   "outputs": [],
   "source": []
  }
 ],
 "metadata": {
  "kernelspec": {
   "display_name": "Python 3",
   "language": "python",
   "name": "python3"
  },
  "language_info": {
   "codemirror_mode": {
    "name": "ipython",
    "version": 3
   },
   "file_extension": ".py",
   "mimetype": "text/x-python",
   "name": "python",
   "nbconvert_exporter": "python",
   "pygments_lexer": "ipython3",
   "version": "3.9.6"
  }
 },
 "nbformat": 4,
 "nbformat_minor": 5
}
